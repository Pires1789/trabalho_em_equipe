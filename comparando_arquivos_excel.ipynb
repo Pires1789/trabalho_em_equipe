{
  "nbformat": 4,
  "nbformat_minor": 0,
  "metadata": {
    "colab": {
      "provenance": [],
      "authorship_tag": "ABX9TyNM+PQan0R87IW58zpRCL4+",
      "include_colab_link": true
    },
    "kernelspec": {
      "name": "python3",
      "display_name": "Python 3"
    },
    "language_info": {
      "name": "python"
    }
  },
  "cells": [
    {
      "cell_type": "markdown",
      "metadata": {
        "id": "view-in-github",
        "colab_type": "text"
      },
      "source": [
        "<a href=\"https://colab.research.google.com/github/Pires1789/trabalho_em_equipe/blob/main/comparando_arquivos_excel.ipynb\" target=\"_parent\"><img src=\"https://colab.research.google.com/assets/colab-badge.svg\" alt=\"Open In Colab\"/></a>"
      ]
    },
    {
      "cell_type": "code",
      "execution_count": null,
      "metadata": {
        "id": "mwH8baJhc3Tv"
      },
      "outputs": [],
      "source": [
        "import pandas as pd\n",
        "\n",
        "def compare_excel_structure(model_file: str, new_file: str) -> None:\n",
        "    try:\n",
        "        df_model = pd.read_excel(model_file)\n",
        "    except FileNotFoundError:\n",
        "        print(f\"Arquivo modelo não encontrado: {model_file}\")\n",
        "        return\n",
        "    except Exception as e:\n",
        "        print(f\"Erro ao ler o arquivo modelo: {e}\")\n",
        "        return\n",
        "\n",
        "    try:\n",
        "        df_new = pd.read_excel(new_file)\n",
        "    except FileNotFoundError:\n",
        "        print(f\"Novo arquivo não encontrado: {new_file}\")\n",
        "        return\n",
        "    except Exception as e:\n",
        "        print(f\"Erro ao ler o novo arquivo: {e}\")\n",
        "        return\n",
        "\n",
        "    model_columns = list(df_model.columns)\n",
        "    new_columns = list(df_new.columns)\n",
        "\n",
        "    if model_columns == new_columns:\n",
        "        print(\"A estrutura dos arquivos é a mesma.\")\n",
        "    else:\n",
        "        missing_columns = set(model_columns) - set(new_columns)\n",
        "        additional_columns = set(new_columns) - set(model_columns)\n",
        "\n",
        "        if missing_columns:\n",
        "            print(f\"As colunas faltantes no novo arquivo: {', '.join(missing_columns)}\")\n",
        "        if additional_columns:\n",
        "            print(f\"As colunas adicionais no novo arquivo: {', '.join(additional_columns)}\")\n",
        "\n",
        "        if model_columns != new_columns:\n",
        "            print(\"A ordem das colunas também é diferente.\")\n",
        "            print(\"Ordem esperada:\", model_columns)\n",
        "            print(\"Ordem atual:\", new_columns)\n",
        "\n",
        "if __name__ == \"__main__\":\n",
        "    model_file = input(\"Digite o caminho do arquivo modelo: \")\n",
        "    new_file = input(\"Digite o caminho do novo arquivo: \")\n",
        "    compare_excel_structure(model_file, new_file)\n"
      ]
    }
  ]
}